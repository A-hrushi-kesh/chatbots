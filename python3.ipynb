{
  "nbformat": 4,
  "nbformat_minor": 0,
  "metadata": {
    "colab": {
      "provenance": []
    },
    "kernelspec": {
      "name": "python3",
      "display_name": "Python 3"
    },
    "language_info": {
      "name": "python"
    }
  },
  "cells": [
    {
      "cell_type": "code",
      "execution_count": 2,
      "metadata": {
        "id": "E0nVvaoJPjyu",
        "colab": {
          "base_uri": "https://localhost:8080/"
        },
        "outputId": "82ddf66a-45c2-4677-8ec5-31d4549c2261"
      },
      "outputs": [
        {
          "output_type": "stream",
          "name": "stdout",
          "text": [
            "Requirement already satisfied: nltk in /usr/local/lib/python3.10/dist-packages (3.8.1)\n",
            "Requirement already satisfied: click in /usr/local/lib/python3.10/dist-packages (from nltk) (8.1.7)\n",
            "Requirement already satisfied: joblib in /usr/local/lib/python3.10/dist-packages (from nltk) (1.3.2)\n",
            "Requirement already satisfied: regex>=2021.8.3 in /usr/local/lib/python3.10/dist-packages (from nltk) (2023.6.3)\n",
            "Requirement already satisfied: tqdm in /usr/local/lib/python3.10/dist-packages (from nltk) (4.66.1)\n"
          ]
        }
      ],
      "source": [
        "!pip install nltk"
      ]
    },
    {
      "cell_type": "code",
      "source": [
        "import nltk\n",
        "nltk.download('punkt')\n",
        "\n",
        "from nltk.tokenize import word_tokenize\n",
        "from sklearn.feature_extraction.text import TfidfVectorizer\n",
        "from sklearn.metrics.pairwise import cosine_similarity\n",
        "import numpy as np\n",
        "\n",
        "# Sample data (you can replace this with your data)\n",
        "data = {\n",
        "     \"Short title, commencement, application and extent\": \"These regulations may be called the Coal Mines Regulations, 2017. They shall come into force on the date of their publication in the Official Gazette. They shall apply to every coal mine. They shall extend to the whole of India.\",\n",
        "    \"abandoned working\": \"Abandoned working means such working as have been abandoned with no intention of working in future.\",\n",
        "    \"Abandoned Mine Methane (AMM)\": \"Abandoned Mine Methane (AMM) means a natural gas recovered from abandoned coal mines or part thereof.\",\n",
        "    \"Act\": \"Act means the Mines Act, 1952 (35 of 1952).\",\n",
        "    \"approved safety lamp\": \"Approved safety lamp and approved electric torch mean respectively, a safety lamp or an electric torch, manufactured by such firm and of such type as the Chief Inspector may, from time to time, specify by a general or special order.\",\n",
        "    \"assistant manager\": \"Assistant manager means a person possessing a Manager’s Certificate appointed in writing by the owner, agent or manager to assist the manager in the management, control, supervision and direction of the mine or part thereof, and who holds the rank immediately below the manager and superior to an overman and a sirdar.\",\n",
        "    \"auxiliary fan\": \"Auxiliary fan means a forcing fan or an exhausting fan used belowground wholly or mainly for ventilating one or more faces forming part of a ventilating district.\",\n",
        "    \"average output\": \"Average output of any mine means the average output per month during the preceding financial year of the total output from all workings within the specified mine boundaries.\",\n",
        "    \"banksman\": \"Banksman means a person appointed to superintend the lowering and raising of persons, tools and materials and to transmit signals at the top of a shaft or incline.\",\n",
        "    \"booster fan\": \"Booster fan means a mechanical ventilator used belowground for boosting the whole current of air passing along the intake or return airway of a mine or ventilating district.\",\n",
        "    \"coal\": \"Coal includes anthracite, bituminous coal, lignite, peat and any other form of carbonaceous matter sold or marketed as coal.\",\n",
        "    \"Coal Mine Methane (CMM)\": \"Coal Mine Methane (CMM) means a natural gas recovered from a coal mine or part thereof.\",\n",
        "    # Add more data entries as needed\n",
        "}\n",
        "    # Add more questions and answers here\n",
        "\n",
        "\n",
        "# Preprocess the data\n",
        "questions = list(data.keys())\n",
        "answers = list(data.values())\n",
        "\n",
        "# Tokenize the text\n",
        "tokenized_answers = [word_tokenize(answer.lower()) for answer in answers]\n",
        "\n",
        "# Convert text data to numerical format using TF-IDF\n",
        "tfidf_vectorizer = TfidfVectorizer()\n",
        "tfidf_matrix = tfidf_vectorizer.fit_transform([\" \".join(tokens) for tokens in tokenized_answers])\n",
        "\n",
        "# Function to get the response\n",
        "def get_response(query):\n",
        "    query_vector = tfidf_vectorizer.transform([query])\n",
        "    similarity_scores = cosine_similarity(query_vector, tfidf_matrix)\n",
        "    most_similar_idx = np.argmax(similarity_scores)\n",
        "\n",
        "    return answers[most_similar_idx]\n",
        "\n",
        "# Interactive chat with the bot\n",
        "print(\"Bot: Hi, I'm your chatbot. Ask me a question or type 'exit' to end the conversation.\")\n",
        "\n",
        "while True:\n",
        "    user_input = input(\"You: \")\n",
        "    if user_input.lower() == 'exit':\n",
        "        print(\"Bot: Goodbye!\")\n",
        "        break\n",
        "    else:\n",
        "        response = get_response(user_input.lower())\n",
        "        print(\"Bot:\", response)"
      ],
      "metadata": {
        "colab": {
          "base_uri": "https://localhost:8080/"
        },
        "id": "uO10zTyFPuU1",
        "outputId": "7dbbadd9-e9c9-45aa-e63d-5368130ec805"
      },
      "execution_count": 15,
      "outputs": [
        {
          "output_type": "stream",
          "name": "stderr",
          "text": [
            "[nltk_data] Downloading package punkt to /root/nltk_data...\n",
            "[nltk_data]   Package punkt is already up-to-date!\n"
          ]
        },
        {
          "output_type": "stream",
          "name": "stdout",
          "text": [
            "Bot: Hi, I'm your chatbot. Ask me a question or type 'exit' to end the conversation.\n",
            "You: what is coal mine regulation ?\n",
            "Bot: Coal Mine Methane (CMM) means a natural gas recovered from a coal mine or part thereof.\n",
            "You: why coal mines are abanded in future?\n",
            "Bot: Abandoned working means such working as have been abandoned with no intention of working in future.\n",
            "You: what is the mean of act 1952\n",
            "Bot: Act means the Mines Act, 1952 (35 of 1952).\n",
            "You: why coal mine is abanded india?\n",
            "Bot: Coal Mine Methane (CMM) means a natural gas recovered from a coal mine or part thereof.\n",
            "You: what is the chif inspector in safty lamp? \n",
            "Bot: Approved safety lamp and approved electric torch mean respectively, a safety lamp or an electric torch, manufactured by such firm and of such type as the Chief Inspector may, from time to time, specify by a general or special order.\n",
            "You: exit\n",
            "Bot: Goodbye!\n"
          ]
        }
      ]
    }
  ]
}